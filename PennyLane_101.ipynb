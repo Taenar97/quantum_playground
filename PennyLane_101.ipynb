{
 "cells": [
  {
   "cell_type": "markdown",
   "id": "6793edd5",
   "metadata": {},
   "source": [
    "\n",
    "### Basic PennyLane functions  \n",
    "from: https://www.youtube.com/watch?v=pe1d0RyCNxY "
   ]
  },
  {
   "cell_type": "markdown",
   "id": "15bd39f6",
   "metadata": {},
   "source": [
    "First of all, import the PennyLane library"
   ]
  },
  {
   "cell_type": "code",
   "execution_count": 3,
   "id": "123b3150",
   "metadata": {},
   "outputs": [],
   "source": [
    "from pennylane import * #To import a whole library is very bad style!"
   ]
  },
  {
   "cell_type": "markdown",
   "id": "66fd558b",
   "metadata": {},
   "source": [
    "Define a device to use for the calculations.  \n",
    "The standard is a quantum simulator with qubits, as stated below.  \n",
    "It is initialized with two qubits."
   ]
  },
  {
   "cell_type": "code",
   "execution_count": 4,
   "id": "68f8435d",
   "metadata": {},
   "outputs": [],
   "source": [
    "dev = device('default.qubit', wires = 2)"
   ]
  },
  {
   "cell_type": "markdown",
   "id": "ef37e252",
   "metadata": {},
   "source": [
    "Now tie the device to the function where the quantum circuit is defined  \n",
    "The circuit function represents a ground state |0> of qubits and does nothing further.  \n",
    "It returns the propabilitys of the states, like a measurement would do in a real QPU."
   ]
  },
  {
   "cell_type": "code",
   "execution_count": null,
   "id": "2b79526c",
   "metadata": {},
   "outputs": [],
   "source": [
    "@qnode(dev)\n",
    "def circuit():\n",
    "    return probs(wires = [0, 1])"
   ]
  },
  {
   "cell_type": "markdown",
   "id": "c9b30bc7",
   "metadata": {},
   "source": [
    "Print out the propabilitys and the complex number representation"
   ]
  },
  {
   "cell_type": "code",
   "execution_count": 5,
   "id": "00d5bcb5",
   "metadata": {},
   "outputs": [
    {
     "name": "stdout",
     "output_type": "stream",
     "text": [
      "[1. 0. 0. 0.]\n",
      "[1.+0.j 0.+0.j 0.+0.j 0.+0.j]\n"
     ]
    }
   ],
   "source": [
    "print(circuit())\n",
    "print(dev.state)"
   ]
  },
  {
   "cell_type": "code",
   "execution_count": null,
   "id": "feadecf0",
   "metadata": {},
   "outputs": [],
   "source": []
  }
 ],
 "metadata": {
  "kernelspec": {
   "display_name": "Python 3 (Spyder)",
   "language": "python3",
   "name": "python3"
  },
  "language_info": {
   "codemirror_mode": {
    "name": "ipython",
    "version": 3
   },
   "file_extension": ".py",
   "mimetype": "text/x-python",
   "name": "python",
   "nbconvert_exporter": "python",
   "pygments_lexer": "ipython3",
   "version": "3.8.11"
  }
 },
 "nbformat": 4,
 "nbformat_minor": 5
}
