{
 "cells": [
  {
   "cell_type": "markdown",
   "id": "aff64743",
   "metadata": {},
   "source": [
    "\n",
    "# Linear Regression of Red Wine  \n",
    "### Suspected correlation between Quality and Alcohol  \n",
    "  \n",
    "Author: Sven Nivera  \n",
    "Date: November 2021"
   ]
  },
  {
   "cell_type": "markdown",
   "id": "fac94420",
   "metadata": {},
   "source": [
    "PennyLane, special NumPy and MatPlot are imported:"
   ]
  },
  {
   "cell_type": "code",
   "execution_count": 2,
   "id": "5805fe71",
   "metadata": {},
   "outputs": [],
   "source": [
    "import pennylane as qml\n",
    "from pennylane import numpy as np\n",
    "import matplotlib.pyplot as plt"
   ]
  },
  {
   "cell_type": "markdown",
   "id": "d641a148",
   "metadata": {},
   "source": [
    ".csv-sheet wich contains the data gets imported...  \n",
    "The columns which contain the alcohol and quality values get isolated:"
   ]
  },
  {
   "cell_type": "code",
   "execution_count": 6,
   "id": "5d058fd6",
   "metadata": {},
   "outputs": [
    {
     "name": "stdout",
     "output_type": "stream",
     "text": [
      "[ 9.4  9.8  9.8 ... 11.  10.2 11. ]\n",
      "[5. 5. 5. ... 6. 5. 6.]\n"
     ]
    }
   ],
   "source": [
    "#Data import from .csv-file\n",
    "wine_data = np.genfromtxt('winequality-red.csv', delimiter=';')\n",
    "\n",
    "#First row which contains the column names must be deleted to use only the data itself\n",
    "wine_data = np.delete(wine_data, 0, 0) \n",
    "\n",
    "#Data isolation\n",
    "alcohol = np.array(wine_data[:,10])\n",
    "quality = np.array(wine_data[:,11])\n",
    "\n",
    "#print data to check it's correctnes\n",
    "print(alcohol)\n",
    "print(quality)"
   ]
  },
  {
   "cell_type": "markdown",
   "id": "7ee45e39",
   "metadata": {},
   "source": [
    "Linear Regression and optimizer getting initialized:"
   ]
  },
  {
   "cell_type": "code",
   "execution_count": 7,
   "id": "46ad7636",
   "metadata": {},
   "outputs": [],
   "source": [
    "# y = ax + b\n",
    "# y -> quality, x -> alcohol\n",
    "a = 10.0\n",
    "b = 0.0\n",
    "stepsize = 0.001\n",
    "\n",
    "#initialize weights and the optimizer\n",
    "weights = [a, b]\n",
    "opt = qml.GradientDescentOptimizer(stepsize)"
   ]
  },
  {
   "cell_type": "markdown",
   "id": "2be26ba9",
   "metadata": {},
   "source": [
    "Two functions for predicting quality values and calculating the cost function must be defined:"
   ]
  },
  {
   "cell_type": "code",
   "execution_count": 8,
   "id": "eb9279f4",
   "metadata": {},
   "outputs": [],
   "source": [
    "#funtion to predict quality value depending on the weights\n",
    "def quality_prediction(weights):\n",
    "    return weights[0] * alcohol + weights[1]\n",
    "\n",
    "#function to calculate the cost (mean squared error)\n",
    "def cost(weights):\n",
    "    predicted_quality = quality_prediction(weights)\n",
    "    mse = np.mean((quality - predicted_quality) ** 2) #Mean squared error gets calculated\n",
    "    return mse"
   ]
  },
  {
   "cell_type": "markdown",
   "id": "5f94dbb4",
   "metadata": {},
   "source": [
    "100 iterations getting executed. With every iteration the weights will be optimized a bit more:"
   ]
  },
  {
   "cell_type": "code",
   "execution_count": 9,
   "id": "d5cbc6e3",
   "metadata": {},
   "outputs": [
    {
     "name": "stderr",
     "output_type": "stream",
     "text": [
      "C:\\Users\\Sven\\anaconda3\\envs\\quantum\\lib\\site-packages\\pennylane\\_grad.py:95: UserWarning: Starting with PennyLane v0.20.0, when using Autograd, inputs have to explicitly specify requires_grad=True (or the argnum argument must be passed) in order for trainable parameters to be identified.\n",
      "  warnings.warn(\n"
     ]
    },
    {
     "data": {
      "image/png": "[encoded data removed]",
      "text/plain": [
       "<Figure size 432x288 with 1 Axes>"
      ]
     },
     "metadata": {},
     "output_type": "display_data"
    }
   ],
   "source": [
    "for i in range(100):\n",
    "    weights = opt.step(cost, weights) #Optimizer optimizes the weights with every iteration\n",
    "    \n",
    "#Display options for further observations:\n",
    "    #print(weights)\n",
    "    #print(cost(weights))\n",
    "    plt.scatter(i, cost(weights))    "
   ]
  },
  {
   "cell_type": "markdown",
   "id": "a109e6c7",
   "metadata": {},
   "source": [
    "The above graph visualizes how the mse gets optimized. It aproximates the ideal value ever more. A 6-Sigma aproximation should be absolutely enough!  \n",
    "  \n",
    "The original data and the calculated regression line is displayed and labeled in a graph:"
   ]
  },
  {
   "cell_type": "code",
   "execution_count": 5,
   "id": "b29f19d5",
   "metadata": {},
   "outputs": [
    {
     "data": {
      "text/plain": [
       "Text(0.5, 0, 'Alcohol in %')"
      ]
     },
     "execution_count": 5,
     "metadata": {},
     "output_type": "execute_result"
    },
    {
     "data": {
      "image/png": "[encoded data removed]",
      "text/plain": [
       "<Figure size 432x288 with 1 Axes>"
      ]
     },
     "metadata": {},
     "output_type": "display_data"
    }
   ],
   "source": [
    "#Original data\n",
    "plt.scatter(alcohol, quality)\n",
    "\n",
    "#Regression line\n",
    "plt.plot(alcohol, quality_prediction(weights), 'r')\n",
    "\n",
    "#Data range and labeling\n",
    "plt.ylim([0, 10])\n",
    "plt.ylabel('Quality [0-10]')\n",
    "plt.xlabel('Alcohol in %')"
   ]
  },
  {
   "cell_type": "markdown",
   "id": "697b363c",
   "metadata": {},
   "source": [
    "As the above graph visualizes our assumption of a linear correlation seems to be true.  \n",
    "It is important to note, that the regression line will only deliver a meaningfull value within the given data range!"
   ]
  }
 ],
 "metadata": {
  "kernelspec": {
   "display_name": "Python 3 (Spyder)",
   "language": "python3",
   "name": "python3"
  },
  "language_info": {
   "codemirror_mode": {
    "name": "ipython",
    "version": 3
   },
   "file_extension": ".py",
   "mimetype": "text/x-python",
   "name": "python",
   "nbconvert_exporter": "python",
   "pygments_lexer": "ipython3",
   "version": "3.9.7"
  }
 },
 "nbformat": 4,
 "nbformat_minor": 5
}
