{
 "cells": [
  {
   "cell_type": "code",
   "execution_count": 54,
   "id": "036f2188",
   "metadata": {},
   "outputs": [],
   "source": [
    "import pennylane as qml\n",
    "from pennylane import numpy as np\n",
    "import matplotlib.pyplot as plt"
   ]
  },
  {
   "cell_type": "code",
   "execution_count": 55,
   "id": "4394ebfa",
   "metadata": {},
   "outputs": [
    {
     "name": "stdout",
     "output_type": "stream",
     "text": [
      "[ 9.4  9.8  9.8 ... 11.  10.2 11. ]\n",
      "[5. 5. 5. ... 6. 5. 6.]\n"
     ]
    }
   ],
   "source": [
    "wine_data = np.genfromtxt('winequality-red.csv', delimiter=';')\n",
    "\n",
    "wine_data = np.delete(wine_data, 0, 0)\n",
    "alcohol = np.array(wine_data[:,10])\n",
    "quality = np.array(wine_data[:,11])\n",
    "\n",
    "print(alcohol)\n",
    "print(quality)"
   ]
  },
  {
   "cell_type": "code",
   "execution_count": 76,
   "id": "4e7e28c4",
   "metadata": {},
   "outputs": [
    {
     "name": "stdout",
     "output_type": "stream",
     "text": [
      "0.8768870870146714\n",
      "0.7276455779659249\n",
      "0.7186859142061713\n",
      "0.7162904160646951\n",
      "0.7155917725773034\n",
      "0.7153825138448905\n",
      "0.7153186645762356\n",
      "0.7152983993420051\n",
      "0.715291232082247\n",
      "0.7152880043893537\n",
      "0.715285962130652\n",
      "0.7152842768154662\n",
      "0.7152826991935272\n",
      "0.7152811542751998\n",
      "0.7152796194985239\n",
      "0.7152780880751771\n",
      "0.7152765579626402\n",
      "0.7152750285462796\n",
      "0.71527349964108\n",
      "0.7152719711912897\n",
      "0.7152704431800504\n",
      "0.7152689156022062\n",
      "0.7152673884561228\n",
      "0.7152658617412252\n",
      "0.7152643354572573\n",
      "0.715262809604059\n",
      "0.715261284181499\n",
      "0.7152597591894548\n",
      "0.7152582346278067\n",
      "0.7152567104964355\n",
      "0.7152551867952222\n",
      "0.7152536635240485\n",
      "0.7152521406827954\n",
      "0.7152506182713446\n",
      "0.7152490962895774\n",
      "0.7152475747373754\n",
      "0.7152460536146199\n",
      "0.7152445329211925\n",
      "0.7152430126569749\n",
      "0.7152414928218486\n",
      "0.715239973415695\n",
      "0.7152384544383962\n",
      "0.7152369358898334\n",
      "0.7152354177698887\n",
      "0.7152339000784437\n",
      "0.7152323828153803\n",
      "0.71523086598058\n",
      "0.715229349573925\n",
      "0.715227833595297\n",
      "0.7152263180445778\n",
      "0.7152248029216496\n",
      "0.7152232882263941\n",
      "0.7152217739586936\n",
      "0.71522026011843\n",
      "0.715218746705485\n",
      "0.7152172337197412\n",
      "0.7152157211610806\n",
      "0.7152142090293852\n",
      "0.7152126973245372\n",
      "0.7152111860464189\n"
     ]
    }
   ],
   "source": [
    "# y = ax + b;\n",
    "# y -> quality, x -> alcohol\n",
    "opt = qml.GradientDescentOptimizer(0.01)\n",
    "\n",
    "init_weights = [0.3, 1.0]\n",
    "weights = init_weights\n",
    "\n",
    "#predict quality value\n",
    "def quality_prediction(weights):\n",
    "    return weights[0] * alcohol + weights[1]\n",
    "\n",
    "#calculate cost function\n",
    "def cost(weights):\n",
    "    quality_predicted = quality_prediction(weights)\n",
    "    rmse = np.sqrt(np.mean((quality - quality_predicted) ** 2))\n",
    "    return rmse\n",
    "\n",
    "for step in range(60):\n",
    "    weights = opt.step(cost, weights)\n",
    "    print(cost(weights))  "
   ]
  },
  {
   "cell_type": "code",
   "execution_count": 77,
   "id": "8f056b59",
   "metadata": {},
   "outputs": [
    {
     "data": {
      "text/plain": [
       "[<matplotlib.lines.Line2D at 0x19a3b9c88e0>]"
      ]
     },
     "execution_count": 77,
     "metadata": {},
     "output_type": "execute_result"
    },
    {
     "data": {
      "image/png": "[encoded data removed]",
      "text/plain": [
       "<Figure size 432x288 with 1 Axes>"
      ]
     },
     "metadata": {},
     "output_type": "display_data"
    }
   ],
   "source": [
    "plt.scatter(alcohol, quality)\n",
    "plt.plot(alcohol, quality_prediction(weights), 'r')"
   ]
  }
 ],
 "metadata": {
  "kernelspec": {
   "display_name": "Python 3 (Spyder)",
   "language": "python3",
   "name": "python3"
  },
  "language_info": {
   "codemirror_mode": {
    "name": "ipython",
    "version": 3
   },
   "file_extension": ".py",
   "mimetype": "text/x-python",
   "name": "python",
   "nbconvert_exporter": "python",
   "pygments_lexer": "ipython3",
   "version": "3.8.11"
  }
 },
 "nbformat": 4,
 "nbformat_minor": 5
}
