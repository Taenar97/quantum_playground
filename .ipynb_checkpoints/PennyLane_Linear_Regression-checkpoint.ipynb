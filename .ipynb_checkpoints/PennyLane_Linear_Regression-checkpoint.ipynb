{
 "cells": [
  {
   "cell_type": "markdown",
   "id": "b77a9d40",
   "metadata": {},
   "source": [
    "Pennylane Linear Regression\n",
    "@Text: Tjark Ziehm\n",
    "@Creater: Xanadu/Pennylane-Team\n",
    "@Dokumentation:\n",
    "          https://arxiv.org/abs/1402.0660\n",
    "@Science: https://iopscience.iop.org/article/10.1088/1742-6596/1738/1/012063/pdf\n",
    "          https://arxiv.org/pdf/quant-ph/0509168.pdf\n",
    "          https://arxiv.org/abs/1811.04968\n",
    "          https://arxiv.org/abs/1804.03159"
   ]
  },
  {
   "cell_type": "code",
   "execution_count": 7,
   "id": "ac34cc98",
   "metadata": {},
   "outputs": [],
   "source": [
    "import pennylane as qml\n",
    "from pennylane import numpy as np\n",
    "import matplotlib.pyplot as plt"
   ]
  },
  {
   "cell_type": "code",
   "execution_count": 8,
   "id": "92a81a8f",
   "metadata": {},
   "outputs": [],
   "source": [
    "x = np.linspace(-1,1,10)\n",
    "\n",
    "np.random.seed(0)\n",
    "\n",
    "steigung, versatz = 0.5, 1.2\n",
    "streuung = 0.1\n",
    "\n",
    "y_data = steigung * x + versatz + streuung *np.random.randn(10)\n",
    "\n",
    "opt = qml. GradientDescentOptimizer(0.5)\n",
    "init_weights = [0.0, 0.0]\n",
    "weights = init_weights"
   ]
  },
  {
   "cell_type": "code",
   "execution_count": 9,
   "id": "e8a97c85",
   "metadata": {},
   "outputs": [
    {
     "name": "stdout",
     "output_type": "stream",
     "text": [
      "0.03261643837838472\n",
      "0.01597249410699671\n",
      "0.010127707092627274\n",
      "0.008075216728184785\n",
      "0.007354451936281802\n",
      "0.007101343861210234\n",
      "0.007012460915780452\n",
      "0.006981248249072593\n",
      "0.006970287422354877\n",
      "0.006966438352890225\n",
      "0.006965086690636507\n",
      "0.006964612032835484\n",
      "0.006964445349163245\n",
      "0.006964386815528009\n",
      "0.006964366260506569\n",
      "0.006964359042282306\n",
      "0.00696435650748752\n",
      "0.00696435561735381\n",
      "0.006964355304769129\n",
      "0.00696435519500003\n"
     ]
    },
    {
     "name": "stderr",
     "output_type": "stream",
     "text": [
      "C:\\Users\\User\\anaconda3\\envs\\quantum\\lib\\site-packages\\pennylane\\_grad.py:95: UserWarning: Starting with PennyLane v0.20.0, when using Autograd, inputs have to explicitly specify requires_grad=True (or the argnum argument must be passed) in order for trainable parameters to be identified.\n",
      "  warnings.warn(\n"
     ]
    }
   ],
   "source": [
    "def y_pred(weights):\n",
    "    return weights[0] * x + weights[1]\n",
    "\n",
    "def cost(weights):\n",
    "    y_pred_ = y_pred(weights)\n",
    "    mse = np.mean((y_data - y_pred_) ** 2)\n",
    "    return mse\n",
    "\n",
    "for step in range(20):\n",
    "    weights = opt.step(cost, weights)\n",
    "    print(cost(weights))"
   ]
  },
  {
   "cell_type": "code",
   "execution_count": 10,
   "id": "d25e196e",
   "metadata": {},
   "outputs": [
    {
     "data": {
      "text/plain": [
       "[<matplotlib.lines.Line2D at 0x13a5c841940>]"
      ]
     },
     "execution_count": 10,
     "metadata": {},
     "output_type": "execute_result"
    },
    {
     "data": {
      "image/png": "[encoded data removed]",
      "text/plain": [
       "<Figure size 432x288 with 1 Axes>"
      ]
     },
     "metadata": {},
     "output_type": "display_data"
    }
   ],
   "source": [
    "plt.scatter(x, y_data)\n",
    "plt.plot(x, y_pred(weights), 'r')"
   ]
  },
  {
   "cell_type": "code",
   "execution_count": 12,
   "id": "a26443ae",
   "metadata": {},
   "outputs": [
    {
     "name": "stdout",
     "output_type": "stream",
     "text": [
      "0.03261643837838472\n",
      "0.01597249410699671\n",
      "0.010127707092627274\n",
      "0.008075216728184785\n",
      "0.007354451936281802\n",
      "0.007101343861210234\n",
      "0.007012460915780452\n",
      "0.006981248249072593\n",
      "0.006970287422354877\n",
      "0.006966438352890225\n",
      "0.006965086690636507\n",
      "0.006964612032835484\n",
      "0.006964445349163245\n",
      "0.006964386815528009\n",
      "0.006964366260506569\n",
      "0.006964359042282306\n",
      "0.00696435650748752\n",
      "0.00696435561735381\n",
      "0.006964355304769129\n",
      "0.00696435519500003\n"
     ]
    },
    {
     "name": "stderr",
     "output_type": "stream",
     "text": [
      "C:\\Users\\User\\anaconda3\\envs\\quantum\\lib\\site-packages\\pennylane\\_grad.py:95: UserWarning: Starting with PennyLane v0.20.0, when using Autograd, inputs have to explicitly specify requires_grad=True (or the argnum argument must be passed) in order for trainable parameters to be identified.\n",
      "  warnings.warn(\n"
     ]
    },
    {
     "data": {
      "text/plain": [
       "[<matplotlib.lines.Line2D at 0x13a5c8ca5b0>]"
      ]
     },
     "execution_count": 12,
     "metadata": {},
     "output_type": "execute_result"
    },
    {
     "data": {
      "image/png": "[encoded data removed]",
      "text/plain": [
       "<Figure size 432x288 with 1 Axes>"
      ]
     },
     "metadata": {},
     "output_type": "display_data"
    }
   ],
   "source": [
    "x = np.linspace(-1,1,10)\n",
    "np.random.seed(0)\n",
    "steigung, versatz = 0.5, 1.2\n",
    "variable = 0.1\n",
    "\n",
    "y_data = steigung * x + versatz + variable * np.random.randn(10)\n",
    "\n",
    "def y_pred(weights):\n",
    "    return weights[0] * x + weights[1]\n",
    "\n",
    "def cost(weights):\n",
    "    y_pred_ = y_pred(weights)\n",
    "    mse = np.mean((y_data - y_pred_) ** 2)\n",
    "    return mse\n",
    "\n",
    "\n",
    "'''\n",
    "\n",
    "'''\n",
    "opt = qml.GradientDescentOptimizer(0.5)\n",
    "\n",
    "init_weights = [0.0, 0.0]\n",
    "\n",
    "weights = init_weights\n",
    "\n",
    "for step in range(20):\n",
    "    weights = opt.step(cost, weights)\n",
    "    print(cost(weights))\n",
    "\n",
    "\n",
    "plt.scatter(x,y_data)\n",
    "plt.plot(x, y_pred(weights),'r')"
   ]
  }
 ],
 "metadata": {
  "kernelspec": {
   "display_name": "Python 3 (Spyder)",
   "language": "python3",
   "name": "python3"
  },
  "language_info": {
   "codemirror_mode": {
    "name": "ipython",
    "version": 3
   },
   "file_extension": ".py",
   "mimetype": "text/x-python",
   "name": "python",
   "nbconvert_exporter": "python",
   "pygments_lexer": "ipython3",
   "version": "3.8.11"
  }
 },
 "nbformat": 4,
 "nbformat_minor": 5
}
